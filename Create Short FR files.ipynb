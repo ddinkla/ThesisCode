{
 "cells": [
  {
   "cell_type": "code",
   "execution_count": 1,
   "metadata": {},
   "outputs": [],
   "source": [
    "import pandas as pd"
   ]
  },
  {
   "cell_type": "code",
   "execution_count": 30,
   "metadata": {},
   "outputs": [],
   "source": [
    "inv3_1 = pd.read_csv(\"C:\\\\Users\\\\s160705\\\\Documents\\\\Thesis\\\\Pitch Data\\\\Startups 2019-2020 Sessie 2\\\\Pitch 2_1 - Ar-T-ficial\\\\Pitch 2_1 - Ar-T-ficial\\\\Participant 32_Ar-T-Ficial Investor 3_Analysis 1_video_20201014_151557_detailed.txt\", \n",
    "                     skiprows=6, sep=\"\\t\", header=1)\n",
    "\n",
    "inv3_2 = pd.read_csv(\"C:\\\\Users\\\\s160705\\\\Documents\\\\Thesis\\\\Pitch Data\\\\Startups 2019-2020 Sessie 2\\\\Pitch 2_2 Recipe-Me\\\\Participant 36_Recipe-Me Investor 3_Analysis 1_video_20201014_192848_detailed.txt\", \n",
    "                     skiprows=6, sep=\"\\t\", header=1)\n",
    "\n",
    "inv3_1['Video Time'] = pd.to_datetime(inv3_1['Video Time'])\n",
    "inv3_2['Video Time'] = pd.to_datetime(inv3_2['Video Time'])"
   ]
  },
  {
   "cell_type": "code",
   "execution_count": 31,
   "metadata": {},
   "outputs": [],
   "source": [
    "max_time_1 = pd.to_datetime('00:03:06.990')\n",
    "max_time_2 = pd.to_datetime('00:09:27.040')"
   ]
  },
  {
   "cell_type": "code",
   "execution_count": 32,
   "metadata": {},
   "outputs": [],
   "source": [
    "inv3_1 = inv3_1.loc[inv3_1['Video Time'] <= max_time_1]\n",
    "inv3_2 = inv3_2.loc[inv3_2['Video Time'] <= max_time_2]"
   ]
  },
  {
   "cell_type": "code",
   "execution_count": 35,
   "metadata": {},
   "outputs": [],
   "source": [
    "time_inv3_1 = pd.read_csv(\"C:\\\\Users\\\\s160705\\\\Documents\\\\Thesis\\\\Pitch Data\\\\Startups 2019-2020 Sessie 2\\\\Pitch 2_1 - Ar-T-ficial\\\\Pitch 2_1 - Ar-T-ficial\\\\Participant 32_Ar-T-Ficial Investor 3_Analysis 1_video_20201014_151557_detailed.txt\", \n",
    "                     skiprows=6, sep=\"\\t\", header=1)['Video Time']\n",
    "\n",
    "time_inv3_2 = pd.read_csv(\"C:\\\\Users\\\\s160705\\\\Documents\\\\Thesis\\\\Pitch Data\\\\Startups 2019-2020 Sessie 2\\\\Pitch 2_2 Recipe-Me\\\\Participant 36_Recipe-Me Investor 3_Analysis 1_video_20201014_192848_detailed.txt\", \n",
    "                     skiprows=6, sep=\"\\t\", header=1)['Video Time']"
   ]
  },
  {
   "cell_type": "code",
   "execution_count": 36,
   "metadata": {},
   "outputs": [],
   "source": [
    "time_inv3_1 = time_inv3_1[:len(inv3_1)]\n",
    "time_inv3_2 = time_inv3_2[:len(inv3_2)]\n",
    "\n",
    "inv3_1['Video Time'] = time_inv3_1\n",
    "inv3_2['Video Time'] = time_inv3_2"
   ]
  },
  {
   "cell_type": "code",
   "execution_count": 39,
   "metadata": {},
   "outputs": [],
   "source": [
    "inv3_1.to_csv(\"Short_Ar-T-Ficial Investor 3_Analysis.csv\", index = False)\n",
    "inv3_2.to_csv(\"Short_Recipe-Me Investor 3_Analysis.csv\", index = False)"
   ]
  }
 ],
 "metadata": {
  "kernelspec": {
   "display_name": "Python 3",
   "language": "python",
   "name": "python3"
  },
  "language_info": {
   "codemirror_mode": {
    "name": "ipython",
    "version": 3
   },
   "file_extension": ".py",
   "mimetype": "text/x-python",
   "name": "python",
   "nbconvert_exporter": "python",
   "pygments_lexer": "ipython3",
   "version": "3.8.3"
  }
 },
 "nbformat": 4,
 "nbformat_minor": 4
}
